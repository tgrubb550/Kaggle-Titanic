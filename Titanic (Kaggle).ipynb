{
 "cells": [
  {
   "cell_type": "code",
   "execution_count": 1,
   "id": "564dc8a3",
   "metadata": {},
   "outputs": [],
   "source": [
    "import pandas as pd\n",
    "from matplotlib import pyplot as plt\n",
    "import numpy as np\n",
    "import scipy.stats as stats"
   ]
  },
  {
   "cell_type": "code",
   "execution_count": 2,
   "id": "d9160354",
   "metadata": {},
   "outputs": [],
   "source": [
    "data = pd.read_csv('train.csv')"
   ]
  },
  {
   "cell_type": "code",
   "execution_count": 3,
   "id": "6a27451b",
   "metadata": {},
   "outputs": [],
   "source": [
    "test_data = pd.read_csv('test.csv')"
   ]
  },
  {
   "cell_type": "code",
   "execution_count": 4,
   "id": "d48a8650",
   "metadata": {},
   "outputs": [],
   "source": [
    "data"
   ]
  },
  {
   "cell_type": "code",
   "execution_count": 5,
   "id": "128250b2",
   "metadata": {},
   "outputs": [],
   "source": [
    "survived = data[data['Survived'] == 1]\n",
    "died = data[data['Survived'] == 0]"
   ]
  },
  {
   "cell_type": "code",
   "execution_count": 6,
   "id": "cf32c403",
   "metadata": {},
   "outputs": [],
   "source": [
    "plt.hist(died['Age']\n",
    "        ,bins=7)\n",
    "plt.title(\"Histogram showing distribution of age (died)\")\n",
    "plt.show()"
   ]
  },
  {
   "cell_type": "code",
   "execution_count": 7,
   "id": "ad6c6d4c",
   "metadata": {},
   "outputs": [],
   "source": [
    "plt.hist(survived['Age']\n",
    "        ,bins=7)\n",
    "plt.title(\"Histogram showing distribution of age (survived)\")\n",
    "plt.show()"
   ]
  },
  {
   "cell_type": "code",
   "execution_count": 8,
   "id": "e8e5f783",
   "metadata": {},
   "outputs": [],
   "source": [
    "plt.hist(survived['Fare']\n",
    "        ,bins=10)\n",
    "plt.title(\"Histogram showing distribution of Fare Price (survived)\")\n",
    "plt.show()"
   ]
  },
  {
   "cell_type": "code",
   "execution_count": 9,
   "id": "67a11b9b",
   "metadata": {},
   "outputs": [],
   "source": [
    "plt.hist(died['Fare']\n",
    "        ,bins=10)\n",
    "plt.title(\"Histogram showing distribution of Fare (died)\")\n",
    "plt.show()"
   ]
  },
  {
   "cell_type": "code",
   "execution_count": 10,
   "id": "f0175cda",
   "metadata": {},
   "outputs": [],
   "source": [
    "list_survived_Pclass = list(survived.Pclass)\n",
    "frequency_survived_Pclass=[]\n",
    "for i in range (1,4):\n",
    "    frequency_survived_Pclass.append(list_survived_Pclass.count(i))\n",
    "print (frequency_survived_Pclass)\n",
    "print (sum(frequency_survived_Pclass))\n"
   ]
  },
  {
   "cell_type": "code",
   "execution_count": 11,
   "id": "7b5f0088",
   "metadata": {},
   "outputs": [],
   "source": [
    "list_died_Pclass = list(died.Pclass)\n",
    "frequency_died_Pclass=[]\n",
    "for i in range (1,4):\n",
    "    frequency_died_Pclass.append(list_died_Pclass.count(i))\n",
    "print (frequency_died_Pclass)\n",
    "print (sum(frequency_died_Pclass))\n"
   ]
  },
  {
   "cell_type": "code",
   "execution_count": 12,
   "id": "be1750d7",
   "metadata": {},
   "outputs": [],
   "source": [
    "PClass_list = [\"1st\", \"2nd\", \"3rd\"]\n",
    "plt.bar(PClass_list,frequency_survived_Pclass)\n",
    "plt.title(\"Chart showing class of ticket (survived)\")\n",
    "plt.xlabel(\"Class of Ticket\")\n",
    "plt.ylabel(\"Frequency\")\n",
    "plt.show()"
   ]
  },
  {
   "cell_type": "code",
   "execution_count": 13,
   "id": "0b7a62b8",
   "metadata": {},
   "outputs": [],
   "source": [
    "PClass_list = [\"1st\", \"2nd\", \"3rd\"]\n",
    "plt.bar(PClass_list,frequency_died_Pclass)\n",
    "plt.title(\"Chart showing class of ticket (died)\")\n",
    "plt.xlabel(\"Class of Ticket\")\n",
    "plt.ylabel(\"Frequency\")\n",
    "plt.show()"
   ]
  },
  {
   "cell_type": "code",
   "execution_count": 14,
   "id": "9e9254b8",
   "metadata": {},
   "outputs": [],
   "source": [
    "Sex = [\"male\", \"female\"]"
   ]
  },
  {
   "cell_type": "code",
   "execution_count": 15,
   "id": "4a051ff9",
   "metadata": {},
   "outputs": [],
   "source": [
    "Sex_List = list(data.Sex)"
   ]
  },
  {
   "cell_type": "code",
   "execution_count": 16,
   "id": "8cb436e0",
   "metadata": {},
   "outputs": [],
   "source": [
    "Sex_Frequencies = []\n",
    "for i in Sex:\n",
    "    Sex_Frequencies.append(Sex_List.count(i))\n",
    "print(Sex_Frequencies) "
   ]
  },
  {
   "cell_type": "code",
   "execution_count": 17,
   "id": "b1e8e943",
   "metadata": {},
   "outputs": [],
   "source": [
    "Sex_List_survived = list(survived.Sex)"
   ]
  },
  {
   "cell_type": "code",
   "execution_count": 18,
   "id": "7d0489ab",
   "metadata": {},
   "outputs": [],
   "source": [
    "Sex_List_died = list(died.Sex)"
   ]
  },
  {
   "cell_type": "code",
   "execution_count": 19,
   "id": "63bf1b2b",
   "metadata": {},
   "outputs": [],
   "source": [
    "Sex_Frequencies_survived = []\n",
    "for i in Sex:\n",
    "    Sex_Frequencies_survived.append(Sex_List_survived.count(i))\n",
    "print(Sex_Frequencies_survived) "
   ]
  },
  {
   "cell_type": "code",
   "execution_count": 20,
   "id": "7608e532",
   "metadata": {},
   "outputs": [],
   "source": [
    "Sex_Frequencies_died = []\n",
    "for i in Sex:\n",
    "    Sex_Frequencies_died.append(Sex_List_died.count(i))\n",
    "print(Sex_Frequencies_died) "
   ]
  },
  {
   "cell_type": "code",
   "execution_count": 21,
   "id": "db61f0a8",
   "metadata": {},
   "outputs": [],
   "source": [
    "plt.bar(Sex,Sex_Frequencies_survived)\n",
    "plt.title(\"Chart showing sex (survived)\")\n",
    "plt.xlabel(\"Sex\")\n",
    "plt.ylabel(\"Frequency\")\n",
    "plt.show()"
   ]
  },
  {
   "cell_type": "code",
   "execution_count": 22,
   "id": "5a7f6da3",
   "metadata": {},
   "outputs": [],
   "source": [
    "plt.bar(Sex,Sex_Frequencies_died)\n",
    "plt.title(\"Chart showing sex (died)\")\n",
    "plt.xlabel(\"Sex\")\n",
    "plt.ylabel(\"Frequency\")\n",
    "plt.show()"
   ]
  },
  {
   "cell_type": "code",
   "execution_count": 23,
   "id": "b65dae2c",
   "metadata": {},
   "outputs": [],
   "source": [
    "Embark_Port = [\"Cherbourg\", \"Queenstown\", \"Southampton\"] "
   ]
  },
  {
   "cell_type": "code",
   "execution_count": 24,
   "id": "683103f0",
   "metadata": {},
   "outputs": [],
   "source": [
    "list_died_Embark = list(died.Embarked)\n",
    "list_survived_Embark = list(survived.Embarked)"
   ]
  },
  {
   "cell_type": "code",
   "execution_count": 25,
   "id": "82355c61",
   "metadata": {},
   "outputs": [],
   "source": [
    "CD=list_died_Embark.count(\"C\")\n",
    "QD=list_died_Embark.count(\"Q\")\n",
    "SD=list_died_Embark.count(\"S\")\n",
    "died_Embark = [CD,QD,SD]\n",
    "died_Embark"
   ]
  },
  {
   "cell_type": "code",
   "execution_count": 26,
   "id": "0dbe8bfe",
   "metadata": {},
   "outputs": [],
   "source": [
    "CS=list_survived_Embark.count(\"C\")\n",
    "QS=list_survived_Embark.count(\"Q\")\n",
    "SS=list_survived_Embark.count(\"S\")\n",
    "survived_Embark = [CS,QS,SS]\n",
    "survived_Embark"
   ]
  },
  {
   "cell_type": "code",
   "execution_count": 27,
   "id": "0310e418",
   "metadata": {},
   "outputs": [],
   "source": [
    "plt.bar(Embark_Port,died_Embark)\n",
    "plt.title(\"Chart showing port embarked (died)\")\n",
    "plt.xlabel(\"Ports\")\n",
    "plt.ylabel(\"Frequency\")\n",
    "plt.show()"
   ]
  },
  {
   "cell_type": "code",
   "execution_count": 28,
   "id": "efd50534",
   "metadata": {},
   "outputs": [],
   "source": [
    "plt.bar(Embark_Port,survived_Embark)\n",
    "plt.title(\"Chart showing port embarked (survived)\")\n",
    "plt.xlabel(\"Ports\")\n",
    "plt.ylabel(\"Frequency\")\n",
    "plt.show()"
   ]
  },
  {
   "cell_type": "code",
   "execution_count": 29,
   "id": "019aaaba",
   "metadata": {},
   "outputs": [],
   "source": [
    "Cabin = [\"Cabin\", \"No Cabin\"] "
   ]
  },
  {
   "cell_type": "code",
   "execution_count": 30,
   "id": "f0d93fca",
   "metadata": {},
   "outputs": [],
   "source": [
    "list_died_Cabin = list(died.Cabin)\n",
    "list_survived_Cabin = list(survived.Cabin)"
   ]
  },
  {
   "cell_type": "code",
   "execution_count": 31,
   "id": "254c567b",
   "metadata": {},
   "outputs": [],
   "source": [
    "died_with_cabin = died.Cabin.count()"
   ]
  },
  {
   "cell_type": "code",
   "execution_count": 32,
   "id": "601d23cf",
   "metadata": {},
   "outputs": [],
   "source": [
    "died_without_cabin = 549-died.Cabin.count()"
   ]
  },
  {
   "cell_type": "code",
   "execution_count": 33,
   "id": "6affd95c",
   "metadata": {},
   "outputs": [],
   "source": [
    "survived_with_cabin =survived.Cabin.count()"
   ]
  },
  {
   "cell_type": "code",
   "execution_count": 34,
   "id": "e2722aef",
   "metadata": {},
   "outputs": [],
   "source": [
    "survived_without_cabin =342-survived.Cabin.count()"
   ]
  },
  {
   "cell_type": "code",
   "execution_count": 35,
   "id": "678cb333",
   "metadata": {},
   "outputs": [],
   "source": [
    "died_with_cabin_list = [died_with_cabin,died_without_cabin]\n",
    "survived_with_cabin_list = [survived_with_cabin,survived_without_cabin]"
   ]
  },
  {
   "cell_type": "code",
   "execution_count": 36,
   "id": "56b81a5e",
   "metadata": {},
   "outputs": [],
   "source": [
    "plt.bar(Cabin,died_with_cabin_list)\n",
    "plt.title(\"Chart showing Cabin (died)\")\n",
    "plt.xlabel(\"Cabin or Not\")\n",
    "plt.ylabel(\"Frequency\")\n",
    "plt.show()"
   ]
  },
  {
   "cell_type": "code",
   "execution_count": 37,
   "id": "7034a655",
   "metadata": {},
   "outputs": [],
   "source": [
    "plt.bar(Cabin,survived_with_cabin_list)\n",
    "plt.title(\"Chart showing Cabin (survived)\")\n",
    "plt.xlabel(\"Cabin or Not\")\n",
    "plt.ylabel(\"Frequency\")\n",
    "plt.show()"
   ]
  },
  {
   "cell_type": "code",
   "execution_count": 38,
   "id": "b1a3d0c7",
   "metadata": {},
   "outputs": [],
   "source": [
    "from sklearn.ensemble import RandomForestClassifier\n",
    "\n",
    "y = train_data[\"Survived\"]\n",
    "\n",
    "features = [\"Pclass\", \"Sex\", \"SibSp\", \"Parch\"]\n",
    "X = pd.get_dummies(train_data[features])\n",
    "X_test = pd.get_dummies(test_data[features])\n",
    "\n",
    "model = RandomForestClassifier(n_estimators=100, max_depth=5, random_state=1)\n",
    "model.fit(X, y)\n",
    "predictions = model.predict(X_test)\n",
    "\n",
    "output = pd.DataFrame({'PassengerId': test_data.PassengerId, 'Survived': predictions})\n",
    "output.to_csv('submission.csv', index=False)\n",
    "print(\"Your submission was successfully saved!\")"
   ]
  },
  {
   "cell_type": "code",
   "execution_count": 39,
   "id": "c76ec42e",
   "metadata": {},
   "outputs": [],
   "source": [
    "from sklearn.ensemble import RandomForestClassifier"
   ]
  },
  {
   "cell_type": "code",
   "execution_count": 40,
   "id": "b2c3e317",
   "metadata": {},
   "outputs": [],
   "source": [
    "y = data[\"Survived\"]"
   ]
  },
  {
   "cell_type": "code",
   "execution_count": 41,
   "id": "f03c178a",
   "metadata": {},
   "outputs": [],
   "source": [
    "features = [\"Pclass\", \"Sex\", \"SibSp\", \"Parch\"]\n",
    "X = pd.get_dummies(data[features])\n",
    "X_test = pd.get_dummies(test_data[features])"
   ]
  },
  {
   "cell_type": "code",
   "execution_count": 42,
   "id": "60231cca",
   "metadata": {},
   "outputs": [],
   "source": [
    "model = RandomForestClassifier(n_estimators=100, max_depth=5, random_state=1)\n",
    "model.fit(X, y)\n",
    "predictions = model.predict(X_test)"
   ]
  },
  {
   "cell_type": "code",
   "execution_count": 43,
   "id": "46c298e2",
   "metadata": {},
   "outputs": [],
   "source": [
    "output = pd.DataFrame({'PassengerId': test_data.PassengerId, 'Survived': predictions})\n",
    "output.to_csv('submission.csv', index=False)\n",
    "print(\"Your submission was successfully saved!\")"
   ]
  },
  {
   "cell_type": "code",
   "execution_count": null,
   "id": "0a686040",
   "metadata": {},
   "outputs": [],
   "source": []
  }
 ],
 "metadata": {
  "kernelspec": {
   "display_name": "Python 3 (ipykernel)",
   "language": "python",
   "name": "python3"
  },
  "language_info": {
   "codemirror_mode": {
    "name": "ipython",
    "version": 3
   },
   "file_extension": ".py",
   "mimetype": "text/x-python",
   "name": "python",
   "nbconvert_exporter": "python",
   "pygments_lexer": "ipython3",
   "version": "3.11.5"
  }
 },
 "nbformat": 4,
 "nbformat_minor": 5
}
